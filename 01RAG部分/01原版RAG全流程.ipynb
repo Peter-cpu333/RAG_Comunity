{
 "cells": [
  {
   "cell_type": "markdown",
   "id": "eac608cc",
   "metadata": {},
   "source": [
    "## 这是一个没有怎么改进的RAG流程\n",
    "- 使用了自己的数据集\n",
    "- 没有使用任何的微调\n",
    "- 没有使用任何的prompt\n",
    "- 没有使用任何的模型\n",
    "并且并没有很好的处理检索以及prompt等问题"
   ]
  },
  {
   "cell_type": "code",
   "execution_count": 1,
   "id": "23aee5a9",
   "metadata": {},
   "outputs": [],
   "source": [
    "from langchain_openai import ChatOpenAI\n",
    "from langchain_core.prompts import ChatPromptTemplate\n",
    "from langchain_core.output_parsers import StrOutputParser\n",
    "import os \n",
    "import json\n",
    "\n",
    "\n",
    "# 1. 导入LLM\n",
    "# 初始化模型\n",
    "chatLLM = ChatOpenAI(\n",
    "    api_key=os.getenv(\"DASHSCOPE_API_KEY\"),\n",
    "    base_url=\"https://dashscope.aliyuncs.com/compatible-mode/v1\",\n",
    "    model=\"qwen-plus\",  # 此处以qwen-plus为例，您可按需更换模型名称\n",
    ")\n",
    "\n"
   ]
  },
  {
   "cell_type": "markdown",
   "id": "de1aff47",
   "metadata": {},
   "source": [
    "## 1 构建向量库\n",
    "- 利用FAISS构建向量库"
   ]
  },
  {
   "cell_type": "code",
   "execution_count": 3,
   "id": "70f1c9d2",
   "metadata": {},
   "outputs": [],
   "source": [
    "\n",
    "from langchain_community.embeddings import DashScopeEmbeddings\n",
    "from langchain.vectorstores import FAISS\n",
    "import json\n",
    "from langchain.schema import Document\n",
    "\n"
   ]
  },
  {
   "cell_type": "code",
   "execution_count": 5,
   "id": "e10ffb67",
   "metadata": {},
   "outputs": [],
   "source": [
    "## 创建嵌入模型\n",
    "embed_model = DashScopeEmbeddings(\n",
    "    model = \"text-embedding-v3\"\n",
    ")\n",
    "def load_jsonl_as_docs(jsonl_path):\n",
    "    docs = []\n",
    "    with open(jsonl_path, 'r', encoding='utf-8') as f:\n",
    "        for line in f:\n",
    "            data = json.loads(line)\n",
    "            # 拼接文本\n",
    "            text = (\n",
    "                f\"小区名称：{data.get('小区名称', '')}；\"\n",
    "                f\"小区单价：{data.get('小区均价', '')}；\"\n",
    "                f\"总价：{data.get('价格', '')}；\"\n",
    "                f\"区域：{data.get('区域', '')}；\"\n",
    "                f\"商圈：{data.get('商圈', '')}；\"\n",
    "                f\"其他描述：{data.get('小区解读_其他描述', '')}；\"\n",
    "                f\"小区不足：{data.get('小区解读_小区不足', '')}；\"\n",
    "                f\"小区户型：{data.get('小区解读_小区户型', '')}；\"\n",
    "                f\"小区设施：{data.get('小区解读_小区设施', '')}；\"\n",
    "                f\"居民素质：{data.get('小区解读_居民素质', '')}；\"\n",
    "                f\"房屋品质：{data.get('小区解读_房屋品质', '')}；\"\n",
    "                f\"生活配套：{data.get('小区解读_生活配套', '')}；\"\n",
    "                f\"轨道交通：{data.get('小区解读_轨道交通', '')}\\n\"\n",
    "            )\n",
    "            doc = Document(page_content=text)\n",
    "            docs.append(doc)\n",
    "    return docs\n",
    "\n",
    "# 用法\n",
    "docs = load_jsonl_as_docs('/Users/zhuyq0719/Documents/文稿 - Zhuyq0719的MacBook Air/小区推荐系统RAG/data/processed_data.jsonl')\n",
    "\n",
    "\n"
   ]
  },
  {
   "cell_type": "code",
   "execution_count": 12,
   "id": "bc5230b6",
   "metadata": {},
   "outputs": [],
   "source": [
    "# 保存和加载向量库\n",
    "# 假设你已经创建了FAISS索引\n",
    "# db = FAISS.from_documents(docs, embed_model)\n",
    "\n",
    "# # 保存索引到指定路径\n",
    "# index_path = './faiss_index'\n",
    "# db.save_local(index_path)\n",
    "\n",
    "\n",
    "from langchain.vectorstores import FAISS\n",
    "index_path = '/Users/zhuyq0719/Documents/文稿 - Zhuyq0719的MacBook Air/小区推荐系统RAG/data/faiss_index'\n",
    "# 加载索引\n",
    "db = FAISS.load_local(index_path, embed_model, allow_dangerous_deserialization=True)\n"
   ]
  },
  {
   "cell_type": "code",
   "execution_count": 13,
   "id": "2f696aaa",
   "metadata": {},
   "outputs": [],
   "source": [
    "# 进行serach\n",
    "query = \"介绍一下怡水豪庭\"\n",
    "result = db.similarity_search(query, k=5)\n",
    "# 拼接搜索结果\n",
    "content = \"\\n\".join([doc.page_content for doc in result])"
   ]
  },
  {
   "cell_type": "code",
   "execution_count": 15,
   "id": "7efb2ca9",
   "metadata": {},
   "outputs": [],
   "source": [
    "\n",
    "prompt = f\"\"\"请结合下方“小区资料”，针对用户的问题，优先推荐3个最符合条件的小区，并分别说明推荐理由。  \n",
    "另外，请再推荐1个虽然不完全满足主要条件、但有一定优势、可以作为备选的小区，并说明其优缺点。\n",
    "\n",
    "请按照以下格式输出：\n",
    "1. 推荐小区1（推荐理由）,\n",
    "2. 推荐小区2（推荐理由）,\n",
    "3. 推荐小区3（推荐理由）,\n",
    "4. 备选小区（推荐理由，说明其不足或不完全符合条件的地方）\n",
    "注意，不要照着小区资料输出，可以根据用户问题着重讲解，\n",
    "小区资料：\n",
    "{content}\n",
    "\n",
    "用户问题：\n",
    "{query}\n",
    "\"\"\""
   ]
  },
  {
   "cell_type": "code",
   "execution_count": 16,
   "id": "2347f11a",
   "metadata": {},
   "outputs": [
    {
     "name": "stdout",
     "output_type": "stream",
     "text": [
      "请结合下方“小区资料”，针对用户的问题，优先推荐3个最符合条件的小区，并分别说明推荐理由。  \n",
      "另外，请再推荐1个虽然不完全满足主要条件、但有一定优势、可以作为备选的小区，并说明其优缺点。\n",
      "\n",
      "请按照以下格式输出：\n",
      "1. 推荐小区1（推荐理由）,\n",
      "2. 推荐小区2（推荐理由）,\n",
      "3. 推荐小区3（推荐理由）,\n",
      "4. 备选小区（推荐理由，说明其不足或不完全符合条件的地方）\n",
      "注意，不要照着小区资料输出，可以根据用户问题着重讲解，\n",
      "小区资料：\n",
      "小区名称：怡水豪庭；小区单价：43633；总价：610.0；区域：黄浦；商圈：人民广场；其他描述：None；小区不足：小区一栋楼，无绿化，距离地铁有点远；小区户型：热门户型为76方的两居室房源。楼间距90米，视野好，采光佳，空气对流，带五米露台。；小区设施：小区的1楼有健身房，住户可以免费使用，另外空中有一个小花园，可以供住户休息；居民素质：自住率比较低，大多数都是为租客。租客以老外为主。；房屋品质：07年统一装修交房，双层真空玻璃，隔音效果不错。；生活配套：None；轨道交通：None\n",
      "\n",
      "小区名称：恒盛豪庭；小区单价：55634；总价：580.0；区域：宝山；商圈：高境；其他描述：None；小区不足：有个红绿灯路口通火车，车流量比较大，高峰期容易拥堵；小区户型：恒盛豪庭主推85和92的双南两房 ，一梯两户的中间套，103和107的南北两房边套！；小区设施：电梯直达带下车库，小区花园有两个，车位配比1:1停车场两个入口两个出口，四个进出的们；居民素质：None；房屋品质：None；生活配套：周边配套商场一个长江国际，大型超市一个永辉超市，电影院有一个娱乐方便，对面有KTV一个价格平民；轨道交通：出门多路公交，608路，1000米到达地铁站，3号线殷高西路，\n",
      "\n",
      "小区名称：恒盛湖畔豪庭(88弄)；小区单价：41603；总价：620.0；区域：奉贤；商圈：南桥；其他描述：None；小区不足：小区价格偏高，有些顶楼墙面有少许漏水；小区户型：小区由28栋高层组成，两梯四户，112㎡丶137㎡与140㎡的大户型3房，楼间距50米，采光很好；小区设施：小区车位充足，目前地下车位已经可以停车，小区内有篮球场 网球场 喷泉 塑胶跑道饭后可娱乐；居民素质：None；房屋品质：None；生活配套：小区南面500米永辉超市，东面是政府400亿打造的上海之鱼，3公里之内可到达百联购，苏宁易购，近商圈；轨道交通：出门150米地铁五号线（金海湖路站），150米奉贤七路公交车\n",
      "\n",
      "小区名称：恒盛湖畔豪庭(262弄)；小区单价：40558；总价：750.0；区域：奉贤；商圈：南桥；其他描述：None；小区不足：小区商业配套不足，以及车位不足。；小区户型：小区由高层两梯三户为主，主力户型有89平米和96平米的两房，141平和150平米三房，171平米四房；小区设施：None；居民素质：None；房屋品质：None；生活配套：小区南面一公里内有百联，苏宁易购，南桥车站，BRT快速公交，东边是地铁五号线，上海之鱼。；轨道交通：出门100米地铁五号线【金海湖站】，50米奉贤七路公交车\n",
      "\n",
      "小区名称：宜浩佳园；小区单价：20423；总价：130.4；区域：浦东；商圈：临港新城；其他描述：小区距离滴水湖地铁站1公里，小区门口10米有公交站台申港1路、申港3路、1096路都到滴水湖地铁站；小区不足：外墙面比较旧，需要粉刷；小区户型：333弄均为步梯房型，总高四层，南北通透双阳台，推荐在卖中间套户型，两房两厅一卫符合一家人居住要求；小区设施：None；居民素质：None；房屋品质：由港城开发商操盘，10年统一毛坯交付，近马路一排装双层真空玻璃，能有效隔绝噪音；生活配套：小区1公里范围之内有港城广场和港城新天地商业广场，超市，购物，k歌，应有尽有。；轨道交通：小区距离滴水湖地铁站2公里小区到滴水湖地铁站300米小区门口10米有公交站台。\n",
      "\n",
      "\n",
      "用户问题：\n",
      "介绍一下怡水豪庭\n",
      "\n"
     ]
    }
   ],
   "source": [
    "print(prompt)"
   ]
  },
  {
   "cell_type": "markdown",
   "id": "3a7548bf",
   "metadata": {},
   "source": [
    "### 2 构建Prompt模版"
   ]
  },
  {
   "cell_type": "code",
   "execution_count": 17,
   "id": "e5fa1fc1",
   "metadata": {},
   "outputs": [
    {
     "name": "stdout",
     "output_type": "stream",
     "text": [
      "content='1. 怡水豪庭（推荐理由：小区地理位置优越，位于黄浦区人民广场商圈，周边生活便利。热门户型为76方的两居室房源，楼间距90米，视野好，采光佳，空气对流，并且带五米露台，居住舒适度较高。）\\n2. 恒盛湖畔豪庭(88弄)（推荐理由：虽然不在同一个区域，但恒盛湖畔豪庭(88弄)价格相对怡水豪庭稍低，同时拥有较好的生活配套，南面500米有永辉超市，东面是政府400亿打造的上海之鱼，3公里之内可到达百联购、苏宁易购，近商圈。此外，出门150米就有地铁五号线（金海湖路站），交通便利。）\\n3. 宜浩佳园（推荐理由：宜浩佳园总价较低，仅为130.4万元，适合预算有限的购房者。小区距离滴水湖地铁站仅1公里，门口10米有公交站台，出行较为方便。小区1公里范围之内有港城广场和港城新天地商业广场，生活配套齐全。）\\n\\n4. 恒盛豪庭（推荐理由：恒盛豪庭的总价为580万元，低于怡水豪庭的610万元，主推85和92的双南两房，户型设计合理。不足之处在于，该小区位于宝山区高境商圈，距离市区较远，且出门需乘坐多路公交，1000米才能到达地铁站，交通不够便捷。）' additional_kwargs={} response_metadata={'finish_reason': 'stop', 'model_name': 'qwen-plus'} id='run-d8de62b1-e527-4928-af54-3ca25633e13a'\n"
     ]
    }
   ],
   "source": [
    "response = chatLLM.invoke(prompt, stream=True)\n",
    "print(response)"
   ]
  },
  {
   "cell_type": "code",
   "execution_count": null,
   "id": "318fd16f",
   "metadata": {},
   "outputs": [],
   "source": []
  }
 ],
 "metadata": {
  "kernelspec": {
   "display_name": "pytorch_env",
   "language": "python",
   "name": "python3"
  },
  "language_info": {
   "codemirror_mode": {
    "name": "ipython",
    "version": 3
   },
   "file_extension": ".py",
   "mimetype": "text/x-python",
   "name": "python",
   "nbconvert_exporter": "python",
   "pygments_lexer": "ipython3",
   "version": "3.9.21"
  }
 },
 "nbformat": 4,
 "nbformat_minor": 5
}
