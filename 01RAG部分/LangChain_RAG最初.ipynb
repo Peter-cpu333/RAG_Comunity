{
 "cells": [
  {
   "cell_type": "markdown",
   "metadata": {},
   "source": [
    "## 1 导入model"
   ]
  },
  {
   "cell_type": "code",
   "execution_count": 20,
   "metadata": {},
   "outputs": [],
   "source": [
    "# 导入LLM\n",
    "# 初始化模型\n",
    "from langchain_openai import ChatOpenAI\n",
    "import os\n",
    "# 1. 导入LLM\n",
    "# 初始化模型\n",
    "model = ChatOpenAI(\n",
    "    api_key=os.getenv(\"DASHSCOPE_API_KEY\"),\n",
    "    base_url=\"https://dashscope.aliyuncs.com/compatible-mode/v1\",\n",
    "    model=\"qwen-plus\",  # 此处以qwen-plus为例，您可按需更换模型名称\n",
    ")\n",
    "\n"
   ]
  },
  {
   "cell_type": "markdown",
   "metadata": {},
   "source": [
    "## 2 导入Embedding模型"
   ]
  },
  {
   "cell_type": "code",
   "execution_count": 4,
   "metadata": {},
   "outputs": [],
   "source": [
    "# 2. 导入Embedding模型\n",
    "from langchain_community.embeddings import DashScopeEmbeddings\n",
    "\n",
    "embeddings = DashScopeEmbeddings(model = \"text-embedding-v3\")"
   ]
  },
  {
   "cell_type": "markdown",
   "metadata": {},
   "source": [
    "## 3 构建向量库"
   ]
  },
  {
   "cell_type": "code",
   "execution_count": 6,
   "metadata": {},
   "outputs": [],
   "source": [
    "# 3. 构建向量库\n",
    "from langchain_core.vectorstores import InMemoryVectorStore\n",
    "vector_store = InMemoryVectorStore(embeddings)"
   ]
  },
  {
   "cell_type": "markdown",
   "metadata": {},
   "source": [
    "# 4 RAG链"
   ]
  },
  {
   "cell_type": "code",
   "execution_count": 7,
   "metadata": {},
   "outputs": [
    {
     "name": "stderr",
     "output_type": "stream",
     "text": [
      "USER_AGENT environment variable not set, consider setting it to identify your requests.\n"
     ]
    }
   ],
   "source": [
    "# 4. RAG链\n",
    "import bs4\n",
    "from langchain import hub\n",
    "from langchain_community.document_loaders import WebBaseLoader\n",
    "from langchain_core.documents import Document\n",
    "from langchain_text_splitters import RecursiveCharacterTextSplitter\n",
    "from langgraph.graph import START, StateGraph\n",
    "from typing_extensions import List, TypedDict\n"
   ]
  },
  {
   "cell_type": "markdown",
   "metadata": {},
   "source": [
    "## 4.1 文档加载器和导入文档"
   ]
  },
  {
   "cell_type": "code",
   "execution_count": 24,
   "metadata": {},
   "outputs": [],
   "source": [
    "# # 4.1 文档加载器和导入文档\n",
    "# loader = WebBaseLoader(\n",
    "#     web_paths=(\"https://lilianweng.github.io/posts/2023-06-23-agent/\",),\n",
    "#     bs_kwargs=dict(\n",
    "#         parse_only=bs4.SoupStrainer(\n",
    "#             class_=(\"post-content\", \"post-title\", \"post-header\")\n",
    "#         )\n",
    "#     ),\n",
    "# )\n",
    "# docs = loader.load()\n",
    "\n",
    "# 4.1.2 PDF\n",
    "from langchain_community.document_loaders import PyPDFLoader\n",
    "\n",
    "# 加载PDF文档\n",
    "loader = PyPDFLoader(\"ntk.pdf\")\n",
    "docs = loader.load()\n"
   ]
  },
  {
   "cell_type": "markdown",
   "metadata": {},
   "source": [
    "## 4.2 文本分割"
   ]
  },
  {
   "cell_type": "code",
   "execution_count": 25,
   "metadata": {},
   "outputs": [],
   "source": [
    "# 4.2 文本切割器和分割文档\n",
    "text_spliter = RecursiveCharacterTextSplitter(chunk_size=1000, chunk_overlap=200)\n",
    "all_splits = text_spliter.split_documents(docs)\n"
   ]
  },
  {
   "cell_type": "code",
   "execution_count": 26,
   "metadata": {},
   "outputs": [
    {
     "name": "stdout",
     "output_type": "stream",
     "text": [
      "page_content='Table of Contents\n",
      "UNITED STATES\n",
      "SECURITIES AND EXCHANGE COMMISSION\n",
      "Washington, D.C. 20549\n",
      "FORM 10-K\n",
      "(Mark One)\n",
      "☑  ANNUAL REPORT PURSUANT TO SECTION 13 OR 15(D) OF THE SECURITIES EXCHANGE ACT OF 1934\n",
      "FOR THE FISCAL YEAR ENDED MAY 31, 2023\n",
      "OR\n",
      "☐  TRANSITION REPORT PURSUANT TO SECTION 13 OR 15(D) OF THE SECURITIES EXCHANGE ACT OF 1934\n",
      "FOR THE TRANSITION PERIOD FROM                         TO                         .\n",
      "Commission File No. 1-10635\n",
      "NIKE, Inc.\n",
      "(Exact name of Registrant as specified in its charter)\n",
      "Oregon 93-0584541\n",
      "(State or other jurisdiction of incorporation) (IRS Employer Identification No.)\n",
      "One Bowerman Drive, Beaverton, Oregon 97005-6453\n",
      "(Address of principal executive offices and zip code)\n",
      "(503) 671-6453\n",
      "(Registrant's telephone number, including area code)\n",
      "SECURITIES REGISTERED PURSUANT TO SECTION 12(B) OF THE ACT:\n",
      "Class B Common Stock NKE New York Stock Exchange\n",
      "(Title of each class) (Trading symbol) (Name of each exchange on which registered)' metadata={'producer': 'EDGRpdf Service w/ EO.Pdf 22.0.40.0', 'creator': 'EDGAR Filing HTML Converter', 'creationdate': '2023-07-20T16:22:00-04:00', 'title': '0000320187-23-000039', 'author': 'EDGAR Online, a division of Donnelley Financial Solutions', 'subject': 'Form 10-K filed on 2023-07-20 for the period ending 2023-05-31', 'keywords': '0000320187-23-000039; ; 10-K', 'moddate': '2023-07-20T16:22:08-04:00', 'source': 'ntk.pdf', 'total_pages': 107, 'page': 0, 'page_label': '1'}\n"
     ]
    }
   ],
   "source": [
    "print(all_splits[0])"
   ]
  },
  {
   "cell_type": "markdown",
   "metadata": {},
   "source": [
    "## 4.3 构建索引\n",
    "在RAG（检索增强生成）系统中，这是一个关键步骤，它会：\n",
    "\n",
    "1. 对每个文档片段使用嵌入模型生成向量表示\n",
    "2. 将这些向量和对应的文档内容存储在向量数据库中\n",
    "3. 建立索引以便后续快速检索\n",
    "\n",
    "这样，当用户提出问题时，系统就可以通过向量相似度搜索，快速找到与问题最相关的文档片段，用于增强生成回答。"
   ]
  },
  {
   "cell_type": "code",
   "execution_count": 27,
   "metadata": {},
   "outputs": [],
   "source": [
    "# 4.3 构建索引\n",
    "_ = vector_store.add_documents(documents=all_splits)"
   ]
  },
  {
   "cell_type": "markdown",
   "metadata": {},
   "source": [
    "## 4.4 构建RAG的Prompt模版\n",
    "1. 从LangChain Hub拉取预定义的RAG提示模板"
   ]
  },
  {
   "cell_type": "code",
   "execution_count": 29,
   "metadata": {},
   "outputs": [],
   "source": [
    "# 4.4 构建RAG的Prompt模版\n",
    "# Define prompt for question-answering\n",
    "prompt = hub.pull(\"rlm/rag-prompt\")"
   ]
  },
  {
   "cell_type": "markdown",
   "metadata": {},
   "source": [
    "## 4.5 基于知识库的问答系统\n",
    "1. State 用于存储应用当前的状态，包括用户问题、检索到的上下文文档和最终答案。\n",
    "2. 这个函数接收当前状态（含用户问题），调用 vector_store.similarity_search 检索相关文档，返回新的 context。vector_store 是你的向量数据库对象，比如 FAISS、Milvus、Chroma 等。\n",
    "3. 将检索到的文档内容拼接，和问题一起传递给 prompt，生成用于大模型的输入。\n",
    "model.invoke(messages) 调用大模型（如 OpenAI GPT、Llama 等）生成答案。\n",
    "返回生成的答案。"
   ]
  },
  {
   "cell_type": "code",
   "execution_count": 30,
   "metadata": {},
   "outputs": [],
   "source": [
    "# 4.5 \n",
    "# Define state for application\n",
    "# 4.5.1 State 用于存储应用当前的状态，包括用户问题、检索到的上下文文档和最终答案。\n",
    "class State(TypedDict):\n",
    "    question: str\n",
    "    context: List[Document]\n",
    "    answer: str\n",
    "\n",
    "# 4.5.2 \n",
    "# 这个函数接收当前状态（含用户问题），调用 vector_store.similarity_search 检索相关文档，返回新的 context。\n",
    "# vector_store 是你的向量数据库对象，比如 FAISS、Milvus、Chroma 等。\n",
    "# Define application steps\n",
    "def retrieve(state: State):\n",
    "    retrieved_docs = vector_store.similarity_search(state[\"question\"])\n",
    "    return {\"context\": retrieved_docs}\n",
    "\n",
    "\n",
    "# 4.5.3\n",
    "# 将检索到的文档内容拼接，和问题一起传递给 prompt，生成用于大模型的输入。\n",
    "# model.invoke(messages) 调用大模型（如 OpenAI GPT、Llama 等）生成答案。\n",
    "# 返回生成的答案。\n",
    "def generate(state: State):\n",
    "    docs_content = \"\\n\\n\".join(doc.page_content for doc in state[\"context\"])\n",
    "    messages = prompt.invoke({\"question\": state[\"question\"], \"context\": docs_content})\n",
    "    response = model.invoke(messages)\n",
    "    return {\"answer\": response.content}\n"
   ]
  },
  {
   "cell_type": "markdown",
   "metadata": {},
   "source": [
    "## 4.6 如何用StateGraph来编排和编译应用的流程，并为测试做准备\n",
    "1. StateGraph(State)\n",
    "\n",
    "    创建一个以State为状态类型的有向图对象，用于管理应用的执行流程。\n",
    "    用来构建你的RAG流程（可以很灵活地加节点、分支等）。\n",
    "\n",
    "2. add_sequence([retrieve, generate])\n",
    "\n",
    "    按顺序添加两个步骤：retrieve（检索）和generate（生成）。\n",
    "    按顺序安排每个处理步骤（如先检索后生成）。\n",
    "\n",
    "    这意味着执行流程会自动从retrieve流向generate。\n",
    "\n",
    "3. add_edge(START, \"retrieve\")\n",
    "\n",
    "    显式指定流程从START节点进入retrieve步骤。\n",
    "    指定流程的起点或节点之间的连接关系。\n",
    "\n",
    "4. compile()\n",
    "\n",
    "    编译成可执行的“问答引擎”对象。\n",
    "    编译流程图，得到可以直接运行的graph对象。\n",
    "\n",
    "5. graph.invoke()\n",
    "\n",
    "    直接用来问问题，得到答案。"
   ]
  },
  {
   "cell_type": "code",
   "execution_count": 31,
   "metadata": {},
   "outputs": [],
   "source": [
    "# Compile application and test\n",
    "graph_builder = StateGraph(State).add_sequence([retrieve, generate])\n",
    "graph_builder.add_edge(START, \"retrieve\")\n",
    "graph = graph_builder.compile()"
   ]
  },
  {
   "cell_type": "markdown",
   "metadata": {},
   "source": [
    "# 5 RAG调用\n"
   ]
  },
  {
   "cell_type": "code",
   "execution_count": 32,
   "metadata": {},
   "outputs": [
    {
     "name": "stdout",
     "output_type": "stream",
     "text": [
      "这份PDF是关于耐克公司（NIKE, INC.）的年度报告，具体包含了截至2023年5月31日的财务报表、综合收益表、现金流量表以及股东权益表等信息。此外，还提供了审计师独立意见和财务注释。这是向美国证券交易委员会提交的10-K表格文件。\n"
     ]
    }
   ],
   "source": [
    "response = graph.invoke({\"question\": \"这是关于什么的PDF？\"})\n",
    "print(response[\"answer\"])"
   ]
  },
  {
   "cell_type": "code",
   "execution_count": null,
   "metadata": {},
   "outputs": [],
   "source": [
    "import streamlit as st\n",
    "\n",
    "st.title(\"PDF/网页文档智能问答\")\n",
    "\n",
    "user_input = st.text_input(\"请输入你的问题：\")\n",
    "\n",
    "if st.button(\"提交\") and user_input:\n",
    "    with st.spinner(\"正在生成答案...\"):\n",
    "        response = graph.invoke({\"question\": user_input})\n",
    "        st.write(\"答案：\")\n",
    "        st.write(response[\"answer\"])\n"
   ]
  },
  {
   "cell_type": "code",
   "execution_count": null,
   "metadata": {},
   "outputs": [],
   "source": []
  }
 ],
 "metadata": {
  "kernelspec": {
   "display_name": "pytorch_env",
   "language": "python",
   "name": "python3"
  },
  "language_info": {
   "codemirror_mode": {
    "name": "ipython",
    "version": 3
   },
   "file_extension": ".py",
   "mimetype": "text/x-python",
   "name": "python",
   "nbconvert_exporter": "python",
   "pygments_lexer": "ipython3",
   "version": "3.9.21"
  }
 },
 "nbformat": 4,
 "nbformat_minor": 2
}
