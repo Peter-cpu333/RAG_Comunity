{
 "cells": [
  {
   "cell_type": "code",
   "execution_count": 7,
   "metadata": {},
   "outputs": [],
   "source": [
    "# 导入LLM\n",
    "# 初始化模型\n",
    "from langchain_openai import ChatOpenAI\n",
    "import os\n",
    "from langchain_community.vectorstores import FAISS\n",
    "# 1. 导入LLM\n",
    "# 初始化模型\n",
    "llm = ChatOpenAI(\n",
    "    api_key=os.getenv(\"DASHSCOPE_API_KEY\"),\n",
    "    base_url=\"https://dashscope.aliyuncs.com/compatible-mode/v1\",\n",
    "    model=\"qwen-plus\",  # 此处以qwen-plus为例，您可按需更换模型名称\n",
    ")\n",
    "\n",
    "# 2. 导入Embedding模型\n",
    "from langchain_community.embeddings import DashScopeEmbeddings\n",
    "\n",
    "embeddings = DashScopeEmbeddings(model = \"text-embedding-v3\")\n",
    "\n",
    "vector_store = FAISS.load_local('/Users/zhuyq0719/小区推荐系统RAG/data/faiss_index', embeddings,\n",
    "    allow_dangerous_deserialization=True)\n",
    "    \n",
    "\n",
    "system_prompt = \"\"\"请结合下方“小区资料”，根据用户的问题，推荐最符合条件的小区。推荐数量可以根据具体情况灵活调整，通常为3到4个，但不局限于此。请对每个推荐的小区进行详细分析，并说明推荐理由。\n",
    "    \n",
    "\n",
    "    除了符合条件的小区外，如果有其他区域的小区虽然不完全符合主要条件但有一定优势（如距离不远、性价比高等），可以作为备选推荐，并详细说明其优缺点。\n",
    "\n",
    "    请按照以下格式输出：\n",
    "    \n",
    "    - 推荐小区（推荐理由，不要输出括号内的内容）\n",
    "    - 备选小区（推荐理由，说明其不足或不完全符合条件的地方，不要输出括号内的内容）\n",
    "\n",
    "    注意事项：\n",
    "    - 当用户仅提问某个小区好坏（即用户已有中意小区时，不要给其推荐备选小区）\n",
    "    - 对每个推荐小区进行详细的分析，包括性价比、交通便利性、居住舒适度及周边配套设施。\n",
    "    - 提供对比分析，说明为什么这些小区比其他选择更适合用户需求。\n",
    "    - 在推荐理由中加入个人化建议，结合用户问题进行深度讲解。\n",
    "    - 对于备选小区，特别说明其相对优势以及为何值得考虑。\n",
    "\n",
    "    小区资料：\n",
    "    {context}\n",
    "\n",
    "    用户问题：\n",
    "    {query}\n",
    "    \"\"\"\n",
    "    \n",
    "from langchain_core.prompts import ChatMessagePromptTemplate\n",
    "prompt_template = ChatMessagePromptTemplate.from_template(system_prompt, role=\"system\")    "
   ]
  },
  {
   "cell_type": "code",
   "execution_count": 9,
   "metadata": {},
   "outputs": [],
   "source": [
    "from langchain_core.tools import tool\n",
    "\n",
    "\n",
    "@tool(response_format=\"content_and_artifact\")\n",
    "def retrieve(query: str):\n",
    "    \"\"\"Retrieve information related to a query.\"\"\"\n",
    "    retrieved_docs = vector_store.similarity_search(query, k=5)\n",
    "    serialized = \"\\n\\n\".join(\n",
    "        (f\"Source: {doc.metadata}\\n\" f\"Content: {doc.page_content}\")\n",
    "        for doc in retrieved_docs\n",
    "    )\n",
    "    return serialized, retrieved_docs\n",
    "    "
   ]
  },
  {
   "cell_type": "code",
   "execution_count": 10,
   "metadata": {},
   "outputs": [],
   "source": [
    "from langgraph.checkpoint.memory import MemorySaver\n",
    "\n",
    "memory = MemorySaver()\n",
    "\n",
    "from langgraph.prebuilt import create_react_agent\n",
    "\n",
    "agent_executor = create_react_agent(llm, [retrieve], checkpointer=memory)\n",
    "\n",
    "\n",
    "# Specify an ID for the thread\n",
    "config = {\"configurable\": {\"thread_id\": \"abc123\"}}"
   ]
  },
  {
   "cell_type": "code",
   "execution_count": 20,
   "metadata": {},
   "outputs": [
    {
     "data": {
      "image/png": "[encoded data removed]",
      "text/plain": [
       "<IPython.core.display.Image object>"
      ]
     },
     "metadata": {},
     "output_type": "display_data"
    }
   ],
   "source": [
    "from IPython.display import Image, display\n",
    "display(Image(agent_executor.get_graph().draw_mermaid_png()))"
   ]
  },
  {
   "cell_type": "code",
   "execution_count": null,
   "metadata": {},
   "outputs": [],
   "source": [
    "config = {\"configurable\": {\"thread_id\": \"def234\"}}\n",
    "\n",
    "input_message = (\n",
    "    \"月薪3000推荐买哪里的房子\"\n",
    ")\n",
    "\n",
    "for event in agent_executor.stream(\n",
    "    {\"messages\": [{\"role\": \"user\", \"content\": input_message}]},\n",
    "    stream_mode=\"values\",\n",
    "    config=config,\n",
    "):\n",
    "    event[\"messages\"][-1].pretty_print()\n"
   ]
  },
  {
   "cell_type": "code",
   "execution_count": 12,
   "metadata": {},
   "outputs": [
    {
     "ename": "AttributeError",
     "evalue": "'CompiledStateGraph' object has no attribute 'with_structured_output'",
     "output_type": "error",
     "traceback": [
      "\u001b[0;31m---------------------------------------------------------------------------\u001b[0m",
      "\u001b[0;31mAttributeError\u001b[0m                            Traceback (most recent call last)",
      "Cell \u001b[0;32mIn[12], line 1\u001b[0m\n\u001b[0;32m----> 1\u001b[0m \u001b[43magent_executor\u001b[49m\u001b[38;5;241;43m.\u001b[39;49m\u001b[43mwith_structured_output\u001b[49m(input_message)\n",
      "\u001b[0;31mAttributeError\u001b[0m: 'CompiledStateGraph' object has no attribute 'with_structured_output'"
     ]
    }
   ],
   "source": [
    "agent_executor.with_structured_output(input_message)"
   ]
  },
  {
   "cell_type": "code",
   "execution_count": 13,
   "metadata": {},
   "outputs": [],
   "source": [
    "from langchain_core.messages import AIMessage"
   ]
  },
  {
   "cell_type": "code",
   "execution_count": null,
   "metadata": {},
   "outputs": [],
   "source": [
    "if st.button(\"提交\") and user_input:\n",
    "    with st.spinner(\"正在生成答案...\"):\n",
    "        "
   ]
  },
  {
   "cell_type": "code",
   "execution_count": null,
   "metadata": {},
   "outputs": [
    {
     "ename": "NameError",
     "evalue": "name 'response_placeholder' is not defined",
     "output_type": "error",
     "traceback": [
      "\u001b[0;31m---------------------------------------------------------------------------\u001b[0m",
      "\u001b[0;31mNameError\u001b[0m                                 Traceback (most recent call last)",
      "Cell \u001b[0;32mIn[16], line 19\u001b[0m\n\u001b[1;32m     15\u001b[0m                 partial_answer \u001b[38;5;241m=\u001b[39m message\u001b[38;5;241m.\u001b[39mcontent\n\u001b[1;32m     16\u001b[0m                 final_answer \u001b[38;5;241m+\u001b[39m\u001b[38;5;241m=\u001b[39m partial_answer\n\u001b[0;32m---> 19\u001b[0m \u001b[43mresponse_placeholder\u001b[49m\u001b[38;5;241m.\u001b[39mmarkdown(final_answer)\n",
      "\u001b[0;31mNameError\u001b[0m: name 'response_placeholder' is not defined"
     ]
    }
   ],
   "source": [
    "user_input = (\n",
    "    \"月薪3000推荐买哪里的房子\"\n",
    ")\n",
    "final_answer = \"\"\n",
    "\n",
    "for event in agent_executor.stream(\n",
    "    {\"messages\": [{\"role\": \"user\", \"content\": user_input}]},\n",
    "    stream_mode=\"values\",\n",
    "    config=config,\n",
    "):\n",
    "    if \"messages\" in event:\n",
    "        messages = event[\"messages\"]\n",
    "        for message in messages:\n",
    "            if isinstance(message, AIMessage):\n",
    "                partial_answer = message.content\n",
    "                final_answer += partial_answer\n",
    "\n"
   ]
  },
  {
   "cell_type": "code",
   "execution_count": 18,
   "metadata": {},
   "outputs": [
    {
     "data": {
      "text/plain": [
       "[HumanMessage(content='月薪3000推荐买哪里的房子', additional_kwargs={}, response_metadata={}, id='51af2491-aaba-434b-b955-d24f3611a34d'),\n",
       " AIMessage(content='月薪3000的情况下，购房需要非常谨慎的考虑和规划。通常来说，购买房产需要考虑的因素包括但不限于：房价、贷款利率、首付比例、交通成本、生活成本等。\\n\\n但是，在大多数的城市中，仅靠月薪3000直接购买房子是非常困难的。因此，这里可以提供一些可能的选择和建议：\\n\\n1. **共有产权房**：一些城市提供共有产权房，即政府和个人共同承担房款，这会降低你的支付压力。\\n2. **小城市或郊区**：如果可以接受离开大城市或者市中心，小城市或郊区的房子可能会便宜很多。\\n3. **租房**：在积蓄不够的时候，租房可能是更好的选择。等到积蓄足够多时，再考虑买房。\\n4. **政策性住房**：关注国家或地方政府提供的经济适用房、廉租房等信息。\\n\\n由于我不知道您所在的国家或地区，我无法给出更具体的建议。如果您能告诉我您的具体位置，我可以为您提供更详细的信息。\\n\\n另外，请记住购房是一个重大的决定，应该根据个人的财务状况进行深思熟虑。如有必要，请咨询专业的财务顾问。 \\n\\n以下是一些全球不同地区的平均房价数据，您可以参考一下：', additional_kwargs={'tool_calls': [{'id': 'call_9e730868975f45a8baa9c0', 'function': {'arguments': '{\"query\":\"全球不同地区的平均房价数据\"}', 'name': 'retrieve'}, 'type': 'function', 'index': 0}], 'refusal': None}, response_metadata={'token_usage': {'completion_tokens': 269, 'prompt_tokens': 166, 'total_tokens': 435, 'completion_tokens_details': None, 'prompt_tokens_details': {'audio_tokens': None, 'cached_tokens': 0}}, 'model_name': 'qwen-plus', 'system_fingerprint': None, 'id': 'chatcmpl-2650dfee-aff4-9602-b3f4-264ab3333522', 'finish_reason': 'tool_calls', 'logprobs': None}, id='run-244365b2-efca-4709-93f1-0550976d2768-0', tool_calls=[{'name': 'retrieve', 'args': {'query': '全球不同地区的平均房价数据'}, 'id': 'call_9e730868975f45a8baa9c0', 'type': 'tool_call'}], usage_metadata={'input_tokens': 166, 'output_tokens': 269, 'total_tokens': 435, 'input_token_details': {'cache_read': 0}, 'output_token_details': {}}),\n",
       " ToolMessage(content='Source: {}\\nContent: 小区名称：新梅共和城；小区单价：87094；总价：885.0；区域：静安；商圈：大宁；其他描述：上海兴盛物业有限公司，物业费1.07-1.47元/平米/月；小区不足：车位紧张、房龄略微老旧2003年的房龄；小区户型：小区以105.24平的两房和136.37平的三房为主，有总高7楼的多层和总高18楼的高层间距30米；小区设施：小区内设泳池有网球场和乒乓台休闲走道和凉亭集休闲娱乐与一体！；居民素质：None；房屋品质：None；生活配套：小区100米大宁国际商城，大瑞发，久光百货500米第十人民医院；轨道交通：地铁一号线：上海马戏城站20米\\n\\n\\nSource: {}\\nContent: 小区名称：国际滨江城；小区单价：96077；总价：1280.0；区域：杨浦；商圈：周家嘴路；其他描述：None；小区不足：小区目前均价9万左右，总价高。离地铁站较远；小区户型：小区5栋高层和别墅组成，中心绿化花园，直面江景没有遮挡。主要为72/93/104平两房和125平三房；小区设施：None；居民素质：小区是次新小区，居住人群多为高端消费群体，素质高。；房屋品质：None；生活配套：小区南门100米就是国际时尚中心（奥特莱斯），一个大型的商业购物中心，小区前面100米有一个博物馆；轨道交通：出小区800米就是地铁12号线爱国路站，门口多路公交60/103路\\n\\n\\nSource: {}\\nContent: 小区名称：石油大楼；小区单价：66444；总价：506.0；区域：杨浦；商圈：鞍山；其他描述：None；小区不足：小区绿化较差，有待物业调整！；小区户型：小区就一栋15楼的小高层2房55-72平3房82.98平，主成交大户型！；小区设施：None；居民素质：None；房屋品质：小区竣工于1984年，开发商：上海四平物业管理有限公司，物业公司：上海四平物业管理有限公司；生活配套：小区楼下就是环球大厦，到紫荆广场和新华医院步行都在300米内；轨道交通：8号线鞍山新村地铁站步行在200米\\n\\n\\nSource: {}\\nContent: 小区名称：东苑绿世界花园(二期)；小区单价：63713；总价：500.0；区域：闵行；商圈：莘庄南广场；其他描述：None；小区不足：小区车位会紧张一些；小区户型：小区户型：以三房两厅两卫为主，以两房一厅一卫为次，一房一厅一卫为辅 楼栋：楼间距宽敞,视野开阔；小区设施：None；居民素质：None；房屋品质：小区竣工年代在2002年，小区外形比较像欧式建筑，比较新颖；；生活配套：离南方商城，中庚漫游800米，周边各大银行距离300米，菜市场，超市，便利店都有；轨道交通：距一号线外环路站600米，莲花路站800米，公交150，703B，753路\\n\\n\\nSource: {}\\nContent: 小区名称：贤居天下苑；小区单价：130491；总价：1310.0；区域：静安；商圈：江宁路；其他描述：小区物业是上海兴耀物业管理有限公司，物业费是2元/平米/月。；小区不足：小区单价较高，户型大户型较多 所以总价较高；小区户型：本小区一共有3栋楼，分1号3号，总高25层。5号总高11层，面积有103平-153平的2房3房4房；小区设施：小区有地下车库，车位配比1:1.2,车位较充足，小区绿化率30%，小区中心有简单的儿童娱乐设施。；居民素质：None；房屋品质：None；生活配套：None；轨道交通：None\\n', name='retrieve', id='076128a9-e571-4829-86b2-ecd7c2b55db0', tool_call_id='call_9e730868975f45a8baa9c0', artifact=[{'id': '22c75f53-0b3f-4fc3-aebe-97f0345909c5', 'metadata': {}, 'page_content': '小区名称：新梅共和城；小区单价：87094；总价：885.0；区域：静安；商圈：大宁；其他描述：上海兴盛物业有限公司，物业费1.07-1.47元/平米/月；小区不足：车位紧张、房龄略微老旧2003年的房龄；小区户型：小区以105.24平的两房和136.37平的三房为主，有总高7楼的多层和总高18楼的高层间距30米；小区设施：小区内设泳池有网球场和乒乓台休闲走道和凉亭集休闲娱乐与一体！；居民素质：None；房屋品质：None；生活配套：小区100米大宁国际商城，大瑞发，久光百货500米第十人民医院；轨道交通：地铁一号线：上海马戏城站20米\\n', 'type': 'Document'}, {'id': 'da3b2302-0812-4222-b165-ad678d671d3e', 'metadata': {}, 'page_content': '小区名称：国际滨江城；小区单价：96077；总价：1280.0；区域：杨浦；商圈：周家嘴路；其他描述：None；小区不足：小区目前均价9万左右，总价高。离地铁站较远；小区户型：小区5栋高层和别墅组成，中心绿化花园，直面江景没有遮挡。主要为72/93/104平两房和125平三房；小区设施：None；居民素质：小区是次新小区，居住人群多为高端消费群体，素质高。；房屋品质：None；生活配套：小区南门100米就是国际时尚中心（奥特莱斯），一个大型的商业购物中心，小区前面100米有一个博物馆；轨道交通：出小区800米就是地铁12号线爱国路站，门口多路公交60/103路\\n', 'type': 'Document'}, {'id': '21ca0647-00ad-46c7-9538-e313c98fc7c9', 'metadata': {}, 'page_content': '小区名称：石油大楼；小区单价：66444；总价：506.0；区域：杨浦；商圈：鞍山；其他描述：None；小区不足：小区绿化较差，有待物业调整！；小区户型：小区就一栋15楼的小高层2房55-72平3房82.98平，主成交大户型！；小区设施：None；居民素质：None；房屋品质：小区竣工于1984年，开发商：上海四平物业管理有限公司，物业公司：上海四平物业管理有限公司；生活配套：小区楼下就是环球大厦，到紫荆广场和新华医院步行都在300米内；轨道交通：8号线鞍山新村地铁站步行在200米\\n', 'type': 'Document'}, {'id': '793361b1-4844-4e99-93bc-1035d02d5877', 'metadata': {}, 'page_content': '小区名称：东苑绿世界花园(二期)；小区单价：63713；总价：500.0；区域：闵行；商圈：莘庄南广场；其他描述：None；小区不足：小区车位会紧张一些；小区户型：小区户型：以三房两厅两卫为主，以两房一厅一卫为次，一房一厅一卫为辅 楼栋：楼间距宽敞,视野开阔；小区设施：None；居民素质：None；房屋品质：小区竣工年代在2002年，小区外形比较像欧式建筑，比较新颖；；生活配套：离南方商城，中庚漫游800米，周边各大银行距离300米，菜市场，超市，便利店都有；轨道交通：距一号线外环路站600米，莲花路站800米，公交150，703B，753路\\n', 'type': 'Document'}, {'id': '24e89039-daae-4316-a9d5-6c137d2590b2', 'metadata': {}, 'page_content': '小区名称：贤居天下苑；小区单价：130491；总价：1310.0；区域：静安；商圈：江宁路；其他描述：小区物业是上海兴耀物业管理有限公司，物业费是2元/平米/月。；小区不足：小区单价较高，户型大户型较多 所以总价较高；小区户型：本小区一共有3栋楼，分1号3号，总高25层。5号总高11层，面积有103平-153平的2房3房4房；小区设施：小区有地下车库，车位配比1:1.2,车位较充足，小区绿化率30%，小区中心有简单的儿童娱乐设施。；居民素质：None；房屋品质：None；生活配套：None；轨道交通：None\\n', 'type': 'Document'}]),\n",
       " AIMessage(content='根据检索到的信息，我找到了一些在上海不同区域的房产信息。这些房产的价格范围和特点如下：\\n\\n1. **新梅共和城**：位于静安区大宁商圈，小区单价87094元/平，总价885万。优点包括良好的生活配套设施（如大宁国际商城、第十人民医院等）和小区内部设施（如泳池、网球场）。缺点是车位紧张，房龄较老（2003年）。\\n\\n2. **国际滨江城**：位于杨浦区周家嘴路商圈，小区单价96077元/平，总价1280万。这个小区的优点是有高端消费群体居住，居民素质高，并且有大型商业购物中心和博物馆作为生活配套。缺点是离地铁站较远。\\n\\n3. **石油大楼**：同样位于杨浦区鞍山商圈，小区单价66444元/平，总价506万。该小区的主要成交户型为大户型，生活配套设施良好（如环球大厦、紫荆广场、新华医院），但绿化较差。\\n\\n4. **东苑绿世界花园(二期)**：位于闵行区莘庄南广场商圈，小区单价63713元/平，总价500万。以三房两厅两卫为主的户型，楼间距宽敞，视野开阔。生活配套设施齐全（如南方商城、各大银行），交通便利（如距一号线外环路站600米）。\\n\\n5. **贤居天下苑**：位于静安区江宁路商圈，小区单价130491元/平，总价1310万。小区绿化率高，中心有儿童娱乐设施，车位充足。但是单价和总价都较高。\\n\\n根据您的月薪情况，直接购买上述房产可能压力较大。建议您考虑以下几点：\\n- **共有产权房**或经济适用房，可以减轻支付压力。\\n- 考虑小城市或郊区的房子，可能会便宜很多。\\n- 如果积蓄不够，租房可能是更好的选择。\\n- 关注国家或地方政府提供的政策性住房信息。\\n\\n请提供更多的个人财务信息或者期望的地理位置，我可以进一步帮您筛选合适的房产选项。', additional_kwargs={'refusal': None}, response_metadata={'token_usage': {'completion_tokens': 467, 'prompt_tokens': 1492, 'total_tokens': 1959, 'completion_tokens_details': None, 'prompt_tokens_details': {'audio_tokens': None, 'cached_tokens': 0}}, 'model_name': 'qwen-plus', 'system_fingerprint': None, 'id': 'chatcmpl-9ac81d4c-f4cd-9682-a142-be272466502f', 'finish_reason': 'stop', 'logprobs': None}, id='run-60304c56-e6f5-4b95-a84e-66c084980a17-0', usage_metadata={'input_tokens': 1492, 'output_tokens': 467, 'total_tokens': 1959, 'input_token_details': {'cache_read': 0}, 'output_token_details': {}}),\n",
       " HumanMessage(content='月薪3000推荐买哪里的房子', additional_kwargs={}, response_metadata={}, id='afba4e5e-4c9f-4c97-9b63-df25ef71427f'),\n",
       " HumanMessage(content='月薪3000推荐买哪里的房子', additional_kwargs={}, response_metadata={}, id='91f8a1c2-0ff1-4791-97e7-4594758dc9b6'),\n",
       " AIMessage(content='考虑到您的月薪为3000元，直接购买房产可能面临较大的经济压力。通常情况下，购房月供不应超过家庭月收入的50%，以确保生活质量和其他必要支出不受影响。因此，对于您目前的收入水平，以下是一些更为实际的建议：\\n\\n1. **共有产权房**：一些城市提供共有产权房，即政府和个人共同承担房款，这会降低您的支付压力。\\n\\n2. **小城市或郊区**：如果可以接受离开大城市或者市中心，小城市或郊区的房子可能会便宜很多。例如，在中国的三四线城市，可能存在单价在3000-5000元/平方米的房产，首付和月供相对较低。\\n\\n3. **租房**：在积蓄不够的时候，租房可能是更好的选择。等到积蓄足够多时，再考虑买房。\\n\\n4. **政策性住房**：关注国家或地方政府提供的经济适用房、廉租房等信息。\\n\\n由于不知道您所在的国家或地区，我无法给出更具体的建议。如果您能告诉我您的具体位置或其他财务信息（如储蓄、其他收入来源），我可以为您提供更详细的信息。\\n\\n此外，请记住购房是一个重大的决定，应该根据个人的财务状况进行深思熟虑。如有必要，请咨询专业的财务顾问。 \\n\\n希望以上信息对您有所帮助！如果有更多具体需求或疑问，请随时告知。', additional_kwargs={'refusal': None}, response_metadata={'token_usage': {'completion_tokens': 281, 'prompt_tokens': 1988, 'total_tokens': 2269, 'completion_tokens_details': None, 'prompt_tokens_details': {'audio_tokens': None, 'cached_tokens': 0}}, 'model_name': 'qwen-plus', 'system_fingerprint': None, 'id': 'chatcmpl-9e9bc88d-ec8d-9cc3-867d-164187faef14', 'finish_reason': 'stop', 'logprobs': None}, id='run-590c23d1-6acf-4996-adbe-3e0377296ca0-0', usage_metadata={'input_tokens': 1988, 'output_tokens': 281, 'total_tokens': 2269, 'input_token_details': {'cache_read': 0}, 'output_token_details': {}})]"
      ]
     },
     "execution_count": 18,
     "metadata": {},
     "output_type": "execute_result"
    }
   ],
   "source": [
    "messages"
   ]
  },
  {
   "cell_type": "code",
   "execution_count": null,
   "metadata": {},
   "outputs": [],
   "source": []
  }
 ],
 "metadata": {
  "kernelspec": {
   "display_name": "pytorch_env",
   "language": "python",
   "name": "python3"
  },
  "language_info": {
   "codemirror_mode": {
    "name": "ipython",
    "version": 3
   },
   "file_extension": ".py",
   "mimetype": "text/x-python",
   "name": "python",
   "nbconvert_exporter": "python",
   "pygments_lexer": "ipython3",
   "version": "3.9.21"
  }
 },
 "nbformat": 4,
 "nbformat_minor": 2
}
