{
 "cells": [
  {
   "cell_type": "code",
   "execution_count": 2,
   "metadata": {},
   "outputs": [],
   "source": [
    "# 导入LLM\n",
    "# 初始化模型\n",
    "from langchain_openai import ChatOpenAI\n",
    "import os\n",
    "from langchain_community.vectorstores import FAISS\n",
    "# 1. 导入LLM\n",
    "# 初始化模型\n",
    "llm = ChatOpenAI(\n",
    "    api_key=os.getenv(\"DASHSCOPE_API_KEY\"),\n",
    "    base_url=\"https://dashscope.aliyuncs.com/compatible-mode/v1\",\n",
    "    model=\"qwen-plus\",  # 此处以qwen-plus为例，您可按需更换模型名称\n",
    ")\n",
    "\n",
    "# 2. 导入Embedding模型\n",
    "from langchain_community.embeddings import DashScopeEmbeddings\n",
    "\n",
    "embeddings = DashScopeEmbeddings(model = \"text-embedding-v3\")\n",
    "\n",
    "vector_store = FAISS.load_local('/Users/zhuyq0719/Documents/文稿 - Zhuyq0719的MacBook Air/小区推荐系统RAG/faiss_index', embeddings,\n",
    "    allow_dangerous_deserialization=True)\n",
    "    \n",
    "\n",
    "system_prompt = \"\"\"请结合下方“小区资料”，根据用户的问题，推荐最符合条件的小区。推荐数量可以根据具体情况灵活调整，通常为3到4个，但不局限于此。请对每个推荐的小区进行详细分析，并说明推荐理由。\n",
    "    \n",
    "\n",
    "    除了符合条件的小区外，如果有其他区域的小区虽然不完全符合主要条件但有一定优势（如距离不远、性价比高等），可以作为备选推荐，并详细说明其优缺点。\n",
    "\n",
    "    请按照以下格式输出：\n",
    "    \n",
    "    - 推荐小区（推荐理由，不要输出括号内的内容）\n",
    "    - 备选小区（推荐理由，说明其不足或不完全符合条件的地方，不要输出括号内的内容）\n",
    "\n",
    "    注意事项：\n",
    "    - 当用户仅提问某个小区好坏（即用户已有中意小区时，不要给其推荐备选小区）\n",
    "    - 对每个推荐小区进行详细的分析，包括性价比、交通便利性、居住舒适度及周边配套设施。\n",
    "    - 提供对比分析，说明为什么这些小区比其他选择更适合用户需求。\n",
    "    - 在推荐理由中加入个人化建议，结合用户问题进行深度讲解。\n",
    "    - 对于备选小区，特别说明其相对优势以及为何值得考虑。\n",
    "\n",
    "    小区资料：\n",
    "    {context}\n",
    "\n",
    "    用户问题：\n",
    "    {query}\n",
    "    \"\"\"\n",
    "    \n",
    "from langchain_core.prompts import ChatMessagePromptTemplate\n",
    "prompt_template = ChatMessagePromptTemplate.from_template(system_prompt, role=\"system\")    "
   ]
  },
  {
   "cell_type": "code",
   "execution_count": 3,
   "metadata": {},
   "outputs": [
    {
     "data": {
      "text/plain": [
       "ChatMessagePromptTemplate(prompt=PromptTemplate(input_variables=['context', 'query'], input_types={}, partial_variables={}, template='请结合下方“小区资料”，根据用户的问题，推荐最符合条件的小区。推荐数量可以根据具体情况灵活调整，通常为3到4个，但不局限于此。请对每个推荐的小区进行详细分析，并说明推荐理由。\\n    \\n\\n    除了符合条件的小区外，如果有其他区域的小区虽然不完全符合主要条件但有一定优势（如距离不远、性价比高等），可以作为备选推荐，并详细说明其优缺点。\\n\\n    请按照以下格式输出：\\n    \\n    - 推荐小区（推荐理由，不要输出括号内的内容）\\n    - 备选小区（推荐理由，说明其不足或不完全符合条件的地方，不要输出括号内的内容）\\n\\n    注意事项：\\n    - 当用户仅提问某个小区好坏（即用户已有中意小区时，不要给其推荐备选小区）\\n    - 对每个推荐小区进行详细的分析，包括性价比、交通便利性、居住舒适度及周边配套设施。\\n    - 提供对比分析，说明为什么这些小区比其他选择更适合用户需求。\\n    - 在推荐理由中加入个人化建议，结合用户问题进行深度讲解。\\n    - 对于备选小区，特别说明其相对优势以及为何值得考虑。\\n\\n    小区资料：\\n    {context}\\n\\n    用户问题：\\n    {query}\\n    '), additional_kwargs={}, role='system')"
      ]
     },
     "execution_count": 3,
     "metadata": {},
     "output_type": "execute_result"
    }
   ],
   "source": [
    "prompt_template"
   ]
  },
  {
   "cell_type": "code",
   "execution_count": 4,
   "metadata": {},
   "outputs": [],
   "source": [
    "from langchain_core.tools import tool\n",
    "\n",
    "\n",
    "@tool(response_format=\"content_and_artifact\")\n",
    "def retrieve(query: str):\n",
    "    \"\"\"Retrieve information related to a query.\"\"\"\n",
    "    retrieved_docs = vector_store.similarity_search(query, k=5)\n",
    "    serialized = \"\\n\\n\".join(\n",
    "        (f\"Source: {doc.metadata}\\n\" f\"Content: {doc.page_content}\")\n",
    "        for doc in retrieved_docs\n",
    "    )\n",
    "    return serialized, retrieved_docs\n",
    "    "
   ]
  },
  {
   "cell_type": "code",
   "execution_count": 5,
   "metadata": {},
   "outputs": [],
   "source": [
    "from langgraph.checkpoint.memory import MemorySaver\n",
    "\n",
    "memory = MemorySaver()\n",
    "\n",
    "from langgraph.prebuilt import create_react_agent\n",
    "\n",
    "agent_executor = create_react_agent(llm, [retrieve], checkpointer=memory)\n",
    "\n",
    "\n",
    "# Specify an ID for the thread\n",
    "config = {\"configurable\": {\"thread_id\": \"abc123\"}}"
   ]
  },
  {
   "cell_type": "code",
   "execution_count": null,
   "metadata": {},
   "outputs": [],
   "source": [
    "config = {\"configurable\": {\"thread_id\": \"def234\"}}\n",
    "\n",
    "input_message = (\n",
    "    \"月薪3000推荐买哪里的房子\"\n",
    ")\n",
    "\n",
    "for event in agent_executor.stream(\n",
    "    {\"messages\": [{\"role\": \"user\", \"content\": input_message}]},\n",
    "    stream_mode=\"values\",\n",
    "    config=config,\n",
    "):\n",
    "    event[\"messages\"][-1].pretty_print()\n"
   ]
  },
  {
   "cell_type": "code",
   "execution_count": 27,
   "metadata": {},
   "outputs": [],
   "source": [
    "messages = str(messages2)"
   ]
  },
  {
   "cell_type": "code",
   "execution_count": 29,
   "metadata": {},
   "outputs": [],
   "source": [
    "messages2 = agent_executor.invoke(\n",
    "    {\"messages\": [{\"role\": \"user\", \"content\": input_message}]},\n",
    "    stream_mode=\"values\",\n",
    "    config=config,\n",
    ")"
   ]
  },
  {
   "cell_type": "code",
   "execution_count": 32,
   "metadata": {},
   "outputs": [
    {
     "ename": "AttributeError",
     "evalue": "'AddableValuesDict' object has no attribute 'content'",
     "output_type": "error",
     "traceback": [
      "\u001b[0;31m---------------------------------------------------------------------------\u001b[0m",
      "\u001b[0;31mAttributeError\u001b[0m                            Traceback (most recent call last)",
      "Cell \u001b[0;32mIn[32], line 1\u001b[0m\n\u001b[0;32m----> 1\u001b[0m \u001b[43mmessages2\u001b[49m\u001b[38;5;241;43m.\u001b[39;49m\u001b[43mcontent\u001b[49m\n",
      "\u001b[0;31mAttributeError\u001b[0m: 'AddableValuesDict' object has no attribute 'content'"
     ]
    }
   ],
   "source": [
    "messages2.content"
   ]
  },
  {
   "cell_type": "code",
   "execution_count": null,
   "metadata": {},
   "outputs": [],
   "source": []
  }
 ],
 "metadata": {
  "kernelspec": {
   "display_name": "pytorch_env",
   "language": "python",
   "name": "python3"
  },
  "language_info": {
   "codemirror_mode": {
    "name": "ipython",
    "version": 3
   },
   "file_extension": ".py",
   "mimetype": "text/x-python",
   "name": "python",
   "nbconvert_exporter": "python",
   "pygments_lexer": "ipython3",
   "version": "3.9.21"
  }
 },
 "nbformat": 4,
 "nbformat_minor": 2
}
